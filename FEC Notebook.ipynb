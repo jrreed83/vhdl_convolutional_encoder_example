{
 "cells": [
  {
   "cell_type": "code",
   "execution_count": 1,
   "id": "5ee3e4af",
   "metadata": {},
   "outputs": [],
   "source": [
    "import numpy as np \n",
    "from pynq import Overlay \n",
    "from pynq import allocate"
   ]
  },
  {
   "cell_type": "code",
   "execution_count": 2,
   "id": "55e6c857",
   "metadata": {},
   "outputs": [],
   "source": [
    "def convenc(x):\n",
    "    # rate 1/3, non-systematic, constraint length 3,\n",
    "    # trellis = poly2trellis(3, [7,3,5]);\n",
    "    r0 = 0\n",
    "    r1 = 0\n",
    "    r2 = 0\n",
    "    ii = 0 \n",
    "    \n",
    "    y = np.zeros(len(x)* 3, dtype=int)\n",
    "\n",
    "\n",
    "    for xi in x:\n",
    "        \n",
    "        r2 = r1\n",
    "        r1 = r0\n",
    "        r0 = xi \n",
    "    \n",
    "        y[ii+0] = r0 ^ r1 ^ r2 # 111 = 7\n",
    "        y[ii+1] =      r1 ^ r2 # 011 = 3\n",
    "        y[ii+2] = r0 ^      r2 # 101 = 5\n",
    "\n",
    "        ii += 3\n",
    "\n",
    "    return y"
   ]
  },
  {
   "cell_type": "code",
   "execution_count": 3,
   "id": "a2559f30",
   "metadata": {},
   "outputs": [
    {
     "data": {
      "application/javascript": [
       "\n",
       "try {\n",
       "require(['notebook/js/codecell'], function(codecell) {\n",
       "  codecell.CodeCell.options_default.highlight_modes[\n",
       "      'magic_text/x-csrc'] = {'reg':[/^%%microblaze/]};\n",
       "  Jupyter.notebook.events.one('kernel_ready.Kernel', function(){\n",
       "      Jupyter.notebook.get_cells().map(function(cell){\n",
       "          if (cell.cell_type == 'code'){ cell.auto_highlight(); } }) ;\n",
       "  });\n",
       "});\n",
       "} catch (e) {};\n"
      ]
     },
     "metadata": {},
     "output_type": "display_data"
    },
    {
     "data": {
      "application/javascript": [
       "\n",
       "try {\n",
       "require(['notebook/js/codecell'], function(codecell) {\n",
       "  codecell.CodeCell.options_default.highlight_modes[\n",
       "      'magic_text/x-csrc'] = {'reg':[/^%%pybind11/]};\n",
       "  Jupyter.notebook.events.one('kernel_ready.Kernel', function(){\n",
       "      Jupyter.notebook.get_cells().map(function(cell){\n",
       "          if (cell.cell_type == 'code'){ cell.auto_highlight(); } }) ;\n",
       "  });\n",
       "});\n",
       "} catch (e) {};\n"
      ]
     },
     "metadata": {},
     "output_type": "display_data"
    }
   ],
   "source": [
    "ol = Overlay(\"/home/xilinx/fec_loopback/fec_loopback.bit\")\n",
    "dma = ol.axi_dma_0"
   ]
  },
  {
   "cell_type": "code",
   "execution_count": 4,
   "id": "4f6b1854",
   "metadata": {},
   "outputs": [],
   "source": [
    "i_buffer = allocate((1, ), dtype=np.uint32)\n",
    "o_buffer = allocate((1, ), dtype=np.uint32)"
   ]
  },
  {
   "cell_type": "code",
   "execution_count": 42,
   "id": "b84ee498",
   "metadata": {},
   "outputs": [],
   "source": [
    "i_buffer[0] = 16\n",
    "#i_buffer[1] = 134\n",
    "#i_buffer[3] = 78\n",
    "#i_buffer[4] = 83\n"
   ]
  },
  {
   "cell_type": "code",
   "execution_count": null,
   "id": "432675c1",
   "metadata": {},
   "outputs": [],
   "source": []
  },
  {
   "cell_type": "code",
   "execution_count": 45,
   "id": "f0c8ee74",
   "metadata": {},
   "outputs": [],
   "source": [
    "dma.sendchannel.transfer(i_buffer)\n",
    "dma.recvchannel.transfer(o_buffer)\n",
    "dma.sendchannel.wait()\n",
    "dma.recvchannel.wait()"
   ]
  },
  {
   "cell_type": "code",
   "execution_count": 31,
   "id": "ddb61484",
   "metadata": {},
   "outputs": [],
   "source": [
    "#dma.recvchannel.transfer(o_buffer)\n",
    "#dma.recvchannel.wait()"
   ]
  },
  {
   "cell_type": "code",
   "execution_count": 46,
   "id": "215a0d88",
   "metadata": {},
   "outputs": [
    {
     "data": {
      "text/plain": [
       "PynqBuffer([1953792], dtype=uint32)"
      ]
     },
     "execution_count": 46,
     "metadata": {},
     "output_type": "execute_result"
    }
   ],
   "source": [
    "o_buffer"
   ]
  },
  {
   "cell_type": "code",
   "execution_count": 33,
   "id": "d82c6537",
   "metadata": {},
   "outputs": [
    {
     "data": {
      "text/plain": [
       "'0b111011101'"
      ]
     },
     "execution_count": 33,
     "metadata": {},
     "output_type": "execute_result"
    }
   ],
   "source": [
    "bin(477)"
   ]
  },
  {
   "cell_type": "code",
   "execution_count": 34,
   "id": "b5ca161a",
   "metadata": {},
   "outputs": [
    {
     "data": {
      "text/plain": [
       "'0b111011101'"
      ]
     },
     "execution_count": 34,
     "metadata": {},
     "output_type": "execute_result"
    }
   ],
   "source": [
    "bin(477)"
   ]
  },
  {
   "cell_type": "code",
   "execution_count": 37,
   "id": "59ee9c05",
   "metadata": {},
   "outputs": [
    {
     "name": "stdout",
     "output_type": "stream",
     "text": [
      "[0 0 0 0 0 0 0 0 0 0 0 0 0 0 0 1 1 1 0 1 1 1 0 1]\n"
     ]
    }
   ],
   "source": [
    "print(np.flip(convenc([1,0,0,0,0,0,0,0])))"
   ]
  },
  {
   "cell_type": "code",
   "execution_count": null,
   "id": "eb57c959",
   "metadata": {},
   "outputs": [],
   "source": []
  }
 ],
 "metadata": {
  "kernelspec": {
   "display_name": "Python 3 (ipykernel)",
   "language": "python",
   "name": "python3"
  },
  "language_info": {
   "codemirror_mode": {
    "name": "ipython",
    "version": 3
   },
   "file_extension": ".py",
   "mimetype": "text/x-python",
   "name": "python",
   "nbconvert_exporter": "python",
   "pygments_lexer": "ipython3",
   "version": "3.10.4"
  }
 },
 "nbformat": 4,
 "nbformat_minor": 5
}
